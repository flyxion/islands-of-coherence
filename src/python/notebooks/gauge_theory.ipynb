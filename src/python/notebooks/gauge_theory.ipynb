# ---
# jupyter:
#   jupytext:
#     text_representation:
#       extension: .py
#       format_name: light
#       format_version: '1.5'
#       jupytext_version: 1.16.3
#   kernelspec:
#     display_name: Python 3 (ipykernel)
#     language: python
#     name: python3
# ---

# + [markdown] slideshow={"slide_type": "slide"}
# # RSVP Gauge Theory: From Lagrangian to Semantic Solitons
#
# **Author**: Flyxion  
# **Date**: Halloween 2025  
# **Part II, Appendix A — Interactive Supplement**
#
# This notebook derives and simulates the **$U(1)$ gauge theory** of meaning in the Relativistic Scalar–Vector Plenum (RSVP). We construct:
# - The **gauge-invariant Lagrangian**,
# - **Euler–Lagrange field equations** (symbolic),
# - A **2D Abelian vortex** (topological soliton),
# - Visualization of **phase winding**, **gauge curvature**, and **energy**.
#
# ---
# -

# + slideshow={"slide_type": "fragment"}
import numpy as np
import matplotlib.pyplot as plt
from matplotlib.colors import Normalize
import sympy as sp
from sympy.vector import CoordSys3D, ParametricRegion, vector_integrate, ParametricIntegral
from IPython.display import display, Math, Latex
plt.rcParams.update({'font.size': 12, 'figure.figsize': (10, 6)})

print("RSVP Gauge Theory — Interactive Notebook Ready")

# + [markdown] slideshow={"slide_type": "slide"}
# ## 1. Gauge-Invariant Lagrangian
#
# We begin with the **complex scalar field** $\Phi = |\Phi| e^{i\theta}$ and **gauge field** $A_\mu$. The covariant derivative is:
#
# $$
# D_\mu \Phi = (\partial_\mu - i g A_\mu) \Phi
# $$
#
# The minimal Lagrangian density is:
#
# $$
# \mathcal{L} = |D_t \Phi|^2 - \frac{c_\Phi^2}{2} |D_i \Phi|^2 - V(|\Phi|) - \frac{1}{4} F_{\mu\nu} F^{\mu\nu}
# $$
#
# with Mexican-hat potential $V(|\Phi|) = \frac{\lambda}{4} (|\Phi|^2 - v^2)^2$.

# + slideshow={"slide_type": "subslide"}
# Symbolic setup
t, x, y = sp.symbols('t x y')
g, c_phi, lambda_, v = sp.symbols('g c_phi lambda v', positive=True)

# Complex field and gauge potential
Phi = sp.Function('Phi')(x, y, t)
A0 = sp.Function('A_0')(x, y, t)
Ax = sp.Function('A_x')(x, y, t)
Ay = sp.Function('A_y')(x, y, t)

# Magnitude and phase
rho = sp.Abs(Phi)
theta = sp.arg(Phi)

# Covariant derivatives
Dt_Phi = sp.diff(Phi, t) - sp.I * g * A0 * Phi
Dx_Phi = sp.diff(Phi, x) - sp.I * g * Ax * Phi
Dy_Phi = sp.diff(Phi, y) - sp.I * g * Ay * Phi

# Field strength
Ftx = sp.diff(Ax, t) - sp.diff(A0, x)
Fty = sp.diff(Ay, t) - sp.diff(A0, y)
Fxy = sp.diff(Ay, x) - sp.diff(Ax, y)

# Lagrangian (spatial part only for soliton)
V = (lambda_/4) * (rho**2 - v**2)**2
L_spatial = c_phi**2 * (sp.conjugate(Dx_Phi)*Dx_Phi + sp.conjugate(Dy_Phi)*Dy_Phi)/2 - V - (Fxy**2)/4

display(Math(r"\mathcal{L}_\text{spatial} = " + sp.latex(L_spatial.doit().simplify())))

# + [markdown] slideshow={"slide_type": "slide"}
# ## 2. Euler–Lagrange Equations (Simplified in Unitary Gauge)
#
# In **unitary gauge** ($\theta = 0$), $\Phi = |\Phi| \in \mathbb{R}$, and the equations reduce to:
#
# $$
# \partial_t^2 |\Phi| - c_\Phi^2 \nabla^2 |\Phi| = \kappa \nabla\!\cdot\!\bm{v} \\
# \lambda_v \bm{v}^\mu = \partial^\mu (|\Phi| + \beta S / \kappa) + A^\mu \\
# \gamma S = \beta \nabla\!\cdot\!\bm{v} \\
# \partial^\nu F_{\nu\mu} = J_\mu = \lambda_v (\bm{v}_\mu - A_\mu / \lambda_v)
# $$

# + slideshow={"slide_type": "fragment"}
print("Simplified gauge equations derived in Appendix A (unitary gauge).")

# + [markdown] slideshow={"slide_type": "slide"}
# ## 3. 2D Abelian Vortex Simulation
#
# We solve for a **static vortex** with winding number $n=1$:
#
# $$
# \Phi(r,\phi) = v f(r) e^{i \phi}, \quad A_\phi = \frac{1}{g r} (1 - h(r))
# $$

# + slideshow={"slide_type": "subslide"}
# Grid
N = 200
L = 20
r = np.linspace(0.1, L, N)
phi = np.linspace(0, 2*np.pi, N)
R, Phi_grid = np.meshgrid(r, phi)

X = R * np.cos(Phi_grid)
Y = R * np.sin(Phi_grid)

# Parameters
v0 = 1.0
g = 1.0
lambda_pot = 1.0
xi = 1.0  # Core size ~ 1/(g v)

# Profile functions (ansatz)
f = lambda r: 1 - np.exp(-r/xi)
h = lambda r: np.exp(-r/xi)

# Fields
Phi_mag = v0 * f(R)
Phi_phase = Phi_grid  # n=1
Phi_complex = Phi_mag * np.exp(1j * Phi_phase)

A_phi = (1 - h(R)) / (g * R + 1e-12)
A_x = -A_phi * np.sin(Phi_grid)
A_y = A_phi * np.cos(Phi_grid)

# Energy density
grad_Phi_mag = np.gradient(Phi_mag, r, axis=1)
D_phi = grad_Phi_mag - (1 - h(R)) / R  # |D_φ Φ|
E_density = 0.5 * c_phi**2 * D_phi**2 + 0.25 * lambda_pot * (Phi_mag**2 - v0**2)**2

# + [markdown] slideshow={"slide_type": "slide"}
# ## 4. Visualization

# + slideshow={"slide_type": "subslide"}
fig, axs = plt.subplots(2, 2, figsize=(14, 10))

# Phase
im0 = axs[0,0].pcolormesh(X, Y, Phi_phase, cmap='hsv', vmin=0, vmax=2*np.pi)
axs[0,0].set_title('Phase of $\\Phi$ (Winding $n=1$)')
plt.colorbar(im0, ax=axs[0,0])

# Gauge field lines
skip = 8
axs[0,1].quiver(X[::skip,::skip], Y[::skip,::skip],
                A_x[::skip,::skip], A_y[::skip,::skip],
                scale=15, color='red')
axs[0,1].set_title('Gauge Field $A_i$ (Authority Lines)')

# |Φ|
im2 = axs[1,0].pcolormesh(X, Y, Phi_mag, cmap='plasma')
axs[1,0].set_title('$|\\Phi|$ — Semantic Density')
plt.colorbar(im2, ax=axs[1,0])

# Energy
im3 = axs[1,1].pcolormesh(X, Y, E_density, cmap='viridis', norm=Normalize(0, 1))
axs[1,1].set_title('Energy Density (Soliton Core)')
plt.colorbar(im3, ax=axs[1,1])

for ax in axs.flat:
    ax.set_xlim(-10, 10)
    ax.set_ylim(-10, 10)
    ax.set_aspect('equal')

plt.tight_layout()
plt.savefig('../../docs/figures/vortex_simulation.png', dpi=300)
plt.show()

# + [markdown] slideshow={"slide_type": "slide"}
# ## 5. Topological Charge (Winding Number)
#
# $$
# Q = \frac{1}{2\pi} \oint_{C} \mathbf{a} \cdot d\mathbf{l}, \quad
# \mathbf{a} = -i \Phi^* \overleftrightarrow{\nabla} \Phi / (2 |\Phi|^2)
# $$

# + slideshow={"slide_type": "fragment"}
# Numerical line integral around large circle
R_large = 8
theta = np.linspace(0, 2*np.pi, 200)
dtheta = theta[1] - theta[0]
x_circ = R_large * np.cos(theta)
y_circ = R_large * np.sin(theta)

# Interpolate phase
from scipy.interpolate import griddata
points = np.vstack((X.ravel(), Y.ravel())).T
values = np.angle(Phi_complex).ravel()
phase_circ = griddata(points, values, (x_circ, y_circ), method='linear')

dphase = np.gradient(phase_circ, dtheta)
Q_num = np.trapz(dphase, theta) / (2 * np.pi)

print(f"Numerical Winding Number Q ≈ {Q_num:.3f} (expected: 1.0)")

# + [markdown] slideshow={"slide_type": "slide"}
# ## 6. Comparison: 't Hooft–Polyakov Monopole (3D Sketch)
#
# In $SU(2)$ theory, monopoles have:
# - Radial Higgs field: $\vec{\Phi}^a = v \hat{r}^a H(r)$
# - Gauge field: $A_i^a = \epsilon^{aij} \hat{r}^j (1 - K(r)) / (g r)$
#
# **Governance Analogue**: UN Charter = monopole core.

# + slideshow={"slide_type": "fragment"}
# 3D visualization placeholder
print("Monopole simulation: See src/python/simulations/monopole_nucleation.py")
print("Core radius ~ 1/(g v), Energy ~ 4πv/g")

# + [markdown] slideshow={"slide_type": "slide"}
# ## 7. Export for LaTeX
#
# ```bash
# jupyter nbconvert --to pdf gauge_theory.ipynb
# # or
# jupyter nbconvert --to html gauge_theory.ipynb
# ```

# + slideshow={"slide_type": "fragment"}
# Save key figure
plt.figure(figsize=(6,6))
plt.pcolormesh(X, Y, np.angle(Phi_complex), cmap='hsv')
plt.title('Semantic Vortex: Phase Winding')
plt.xlabel('$x$'); plt.ylabel('$y$')
plt.colorbar(label='Phase')
plt.savefig('../../src/latex/figures/semantic_vortex.pdf', bbox_inches='tight')
print("Figure exported: semantic_vortex.pdf")

# + [markdown] slideshow={"slide_type": "slide"}
# ## Conclusion
#
# - **Gauge field $A_\mu$** = institutional authority,
# - **Vortex core** = cultural myth,
# - **Winding number $Q$** = topological protection,
# - **Curvature $F_{\mu\nu}$** = semantic tension (propaganda).
#
# > **Free discourse = flat gauge**.  
# > **Coherence = conserved charge**.
#
# See **Part II, Appendix A** for full derivation.
# -
