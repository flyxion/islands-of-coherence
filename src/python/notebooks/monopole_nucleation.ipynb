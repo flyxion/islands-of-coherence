# ---
# jupyter:
#   jupytext:
#     text_representation:
#       extension: .py
#       format_name: light
#       format_version: '1.5'
#       jupytext_version: 1.16.3
#   kernelspec:
#     display_name: Python 3 (ipykernel)
#     language: python
#     name: python3
# ---

# + [markdown] slideshow={"slide_type": "slide"}
# # 't Hooft–Polyakov Monopole Nucleation in RSVP Cosmology
#
# **Author**: Flyxion  
# **Date**: Halloween 2025  
# **Part IV — Cosmological Extensions**
#
# This notebook simulates **semantic monopoles**—global ethical attractors (e.g., UN Charter, human rights)—as **'t Hooft–Polyakov monopoles** in a non-Abelian $SU(2)$ gauge theory of meaning. We:
# - Solve the **radial monopole profile**,
# - Implement **Kibble–Zurek nucleation** during a crisis quench,
# - Visualize **magnetic charge**, **Higgs field**, and **energy**,
# - Animate **monopole–antimonopole annihilation**.
#
# ---

# + slideshow={"slide_type": "fragment"}
import numpy as np
import matplotlib.pyplot as plt
from matplotlib.colors import Normalize
from matplotlib.animation import FuncAnimation, PillowWriter
from scipy.integrate import solve_ivp
from scipy.interpolate import interp1d
import sympy as sp
from IPython.display import display, Math, HTML

plt.rcParams.update({'font.size': 12, 'figure.figsize': (10, 6)})
print("Monopole Nucleation — RSVP Cosmology Ready")

# + [markdown] slideshow={"slide_type": "slide"}
# ## 1. Non-Abelian $SU(2)$ Lagrangian
#
# Scalar triplet $\vec{\Phi}^a$, $SU(2)$ gauge field $A_\mu^a$. Covariant derivative:
#
# $$
# D_\mu \vec{\Phi}^a = \partial_\mu \vec{\Phi}^a + g \epsilon^{abc} A_\mu^b \vec{\Phi}^c
# $$
#
# Lagrangian:
#
# $$
# \mathcal{L} = \frac{1}{2} (D_t \vec{\Phi})^2 - \frac{c_\Phi^2}{2} (D_i \vec{\Phi})^2 - \frac{\lambda}{4} (|\vec{\Phi}|^2 - v^2)^2 - \frac{1}{4} F_{\mu\nu}^a F^{a\mu\nu}
# $$

# + slideshow={"slide_type": "subslide"}
# Symbolic ansatz
r = sp.symbols('r')
g, v, lambda_ = sp.symbols('g v lambda', positive=True)
H = sp.Function('H')(r)
K = sp.Function('K')(r)

Phi_r = v * H * sp.Symbol('r_hat')  # Radial Higgs
A_r = (1 - K) / (g * r) * sp.Symbol('epsilon')  # Gauge field

display(Math(r"\vec{\Phi}^a = v \hat{r}^a H(r), \quad A_i^a = \epsilon^{aij} \hat{r}^j \frac{1-K(r)}{g r}"))

# + [markdown] slideshow={"slide_type": "slide"}
# ## 2. Radial Monopole Solution
#
# Boundary conditions:
# - $H(0) = 0$, $K(0) = 1$ (regular core),
# - $H(\infty) = 1$, $K(\infty) = 0$ (vacuum).

# + slideshow={"slide_type": "fragment"}
def monopole_equations(xi, y, g=1.0, v=1.0, lambda_pot=1.0):
    H, K = y
    dH_dxi = y[2] if len(y) > 2 else 0
    dK_dxi = y[3] if len(y) > 3 else 0
    xi = max(xi, 1e-6)
    
    # Equations from Bogomol'nyi or numerical relaxation
    d2H = - (2/xi) * dH_dxi + (K**2 * H) - lambda_pot * H * (H**2 - 1)
    d2K = - (2/xi) * dK_dxi + K * (K**2 - H**2)
    
    return [dH_dxi, dK_dxi, d2H, d2K]

# Initial conditions near r=0
xi_span = (1e-3, 20)
y0 = [0.0, 1.0, 0.1, -0.1]  # H, K, H', K'

sol = solve_ivp(monopole_equations, xi_span, y0, method='Radau', rtol=1e-8, atol=1e-8)
xi = sol.t
H = sol.y[0]
K = sol.y[1]

# Interpolate
H_func = interp1d(xi, H, kind='cubic', fill_value="extrapolate")
K_func = interp1d(xi, K, kind='cubic', fill_value="extrapolate")

# + [markdown] slideshow={"slide_type": "slide"}
# ## 3. Kibble–Zurek Nucleation During Crisis Quench
#
# Crisis = rapid cooling from $T > T_c$ to $T < T_c$. Correlation length freezes at:
#
# $$
# \hat{\xi} \sim \tau_Q^{1/4}, \quad n_m \sim \hat{\xi}^{-3}
# $$

# + slideshow={"slide_type": "subslide"}
# Quench time tau_Q
tau_Q = 10.0  # Fast crisis
xi_hat = tau_Q ** 0.25
n_m = xi_hat ** (-3)
print(f"Quench time τ_Q = {tau_Q}, ξ̂ = {xi_hat:.2f}, n_m ≈ {n_m:.1e} per unit volume")

# Nucleate random monopoles
np.random.seed(42)
N_mon = int(n_m * 1000) if n_m > 0.001 else 3
positions = np.random.uniform(-10, 10, (N_mon, 3))
charges = np.random.choice([-1, 1], N_mon)

print(f"Nucleated {N_mon} monopoles (including anti-monopoles)")

# + [markdown] slideshow={"slide_type": "slide"}
# ## 4. 3D Visualization (Slice through Core)

# + slideshow={"slide_type": "subslide"}
# Single monopole at origin
r_grid = np.linspace(0.1, 15, 100)
X, Y, Z = np.meshgrid(r_grid, r_grid, 0)  # xy-plane slice
R = np.sqrt(X**2 + Y**2 + Z**2 + 1e-12)

H_field = H_func(R)
K_field = K_func(R)

# Magnetic field B^a = (1/r^2) ε^{aij} \hat{r}^j (1 - K)
B_mag = (1 - K_field) / R**2
B_dir = np.array([X/R, Y/R, Z/R])  # hedgehog

fig, axs = plt.subplots(2, 2, figsize=(14, 10))

# Higgs magnitude
im0 = axs[0,0].pcolormesh(X[:,:,0], Y[:,:,0], H_field[:,:,0], cmap='plasma', vmin=0, vmax=1)
axs[0,0].set_title('$\\vec{\\Phi}$ Magnitude (Ethical Field)')
plt.colorbar(im0, ax=axs[0,0])

# Gauge field lines
skip = 5
axs[0,1].streamplot(X[::skip,::skip,0], Y[::skip,::skip,0],
                    B_dir[0][::skip,::skip,0], B_dir[1][::skip,::skip,0],
                    density=1.5, color=B_mag[::skip,::skip,0], cmap='Reds')
axs[0,1].set_title('Authority Field Lines ($B \\sim 1/r^2$)')

# Charge density
Q_density = B_mag * (4 * np.pi * R**2)  # Surface integral proxy
im2 = axs[1,0].pcolormesh(X[:,:,0], Y[:,:,0], Q_density[:,:,0], cmap='bwr', norm=Normalize(-1,1))
axs[1,0].set_title('Magnetic Charge Density')
plt.colorbar(im2, ax=axs[1,0])

# Energy profile
E_radial = 0.5 * (1 - K_field)**2 / R**2 + 0.25 * lambda_ * (H_field**2 - 1)**2
axs[1,1].plot(r_grid, np.mean(E_radial, axis=(0,1)), 'k-', lw=2)
axs[1,1].set_xlabel('Radius $r$')
axs[1,1].set_ylabel('Energy Density')
axs[1,1].set_title('Monopole Core Energy')

for ax in axs.flat[:3]:
    ax.set_xlim(-10, 10)
    ax.set_ylim(-10, 10)
    ax.set_aspect('equal')

plt.tight_layout()
plt.savefig('../../docs/figures/monopole_slice.png', dpi=300)
plt.show()

# + [markdown] slideshow={"slide_type": "slide"}
# ## 5. Animation: Monopole–Antimonopole Annihilation
#
# Pair with $Q_m = +1$ and $Q_m = -1$ attract and annihilate → vacuum.

# + slideshow={"slide_type": "subslide"}
# Setup
fig, ax = plt.subplots(figsize=(8, 8))
ax.set_xlim(-12, 12)
ax.set_ylim(-12, 12)
ax.set_aspect('equal')

# Initial positions
pos_p = np.array([-6, 0])
pos_m = np.array([+6, 0])
vel = np.array([0.5, 0])  # Toward each other

def update(frame):
    global pos_p, pos_m
    ax.clear()
    ax.set_xlim(-12, 12); ax.set_ylim(-12, 12)
    
    # Move
    pos_p += vel * 0.1
    pos_m -= vel * 0.1
    dist = np.linalg.norm(pos_p - pos_m)
    
    # Plot monopoles
    ax.plot(*pos_p, 'ro', ms=15, label='$Q_m = +1$')
    ax.plot(*pos_m, 'bo', ms=15, label='$Q_m = -1$')
    
    # Field lines
    if dist > 1.0:
        xline = np.linspace(pos_p[0], pos_m[0], 50)
        yline = np.linspace(pos_p[1], pos_m[1], 50)
        ax.plot(xline, yline, 'k--', alpha=0.5)
    
    ax.set_title(f'Annihilation: Distance = {dist:.2f}')
    ax.legend()
    
    if dist < 1.0:
        ax.text(0, 0, 'VACUUM', fontsize=20, ha='center', color='green')
        return
    
ani = FuncAnimation(fig, update, frames=100, interval=100, repeat=False)
ani.save('../../docs/figures/monopole_annihilation.gif', writer=PillowWriter(fps=15))
HTML(ani.to_jshtml())

# + [markdown] slideshow={"slide_type": "slide"}
# ## 6. Export for LaTeX

# + slideshow={"slide_type": "fragment"}
# Save key figure
plt.figure(figsize=(6,6))
r_plot = np.linspace(0.1, 15, 100)
plt.plot(r_plot, H_func(r_plot), label='$H(r)$ — Ethical Field')
plt.plot(r_plot, K_func(r_plot), label='$K(r)$ — Authority Decay')
plt.axhline(1, color='k', ls='--', alpha=0.5)
plt.xlabel('Radius $r$')
plt.ylabel('Profile Functions')
plt.legend()
plt.title('Monopole Core Structure')
plt.grid(True, alpha=0.3)
plt.savefig('../../src/latex/figures/monopole_profile.pdf', bbox_inches='tight')
print("Exported: monopole_profile.pdf, monopole_slice.png, monopole_annihilation.gif")

# + [markdown] slideshow={"slide_type": "slide"}
# ## Conclusion
#
# - **Monopole core** = ethical attractor (UN, human rights),
# - **Charge $Q_m$** = normative weight,
# - **Nucleation** = crisis-driven emergence,
# - **Annihilation** = collapse of global order.
#
# > **A just civilization maintains $n_m \sim 1$ per horizon** —  
# > **neither zero (anarchy) nor many (tyranny)**.
#
# See **Part IV** for cosmological implications.
# -
