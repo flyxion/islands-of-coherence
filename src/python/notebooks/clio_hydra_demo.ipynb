# ---
# jupyter:
#   jupytext:
#     text_representation:
#       extension: .py
#       format_name: light
#       format_version: '1.5'
#       jupytext_version: 1.16.3
#   kernelspec:
#     display_name: Python 3 (ipykernel)
#     language: python
#     name: python3
# ---

# + [markdown] slideshow={"slide_type": "slide"}
# # CLIO–HYDRA Multi-Agent Coherence Demo
#
# **Author**: Flyxion  
# **Date**: Halloween 2025  
# **Part V — AI and Simulation**
#
# This notebook demonstrates **three agents** achieving **supercoherence** via:
# - **CLIO**: Gradient descent on free-energy $\mathcal{F}$
# - **HYDRA**: Sheaf-consistent synchronization
#
# $$
# \mathcal{F} = \kappa \sum_i \|\Phi_i - \bar{\Phi}\|^2 + \beta \sum_i \|\mathbf{v}_i\|^2
# $$
#
# Agents converge to a **shared semantic attractor**, with entropy $S_i \to 0$.

# + slideshow={"slide_type": "fragment"}
import numpy as np
import matplotlib.pyplot as plt
from matplotlib.animation import FuncAnimation, PillowWriter
from IPython.display import HTML
import os

plt.rcParams.update({'font.size': 14, 'figure.figsize': (10, 8)})

# Parameters
kappa = 1.0   # Semantic coupling
beta = 0.5    # Action damping
dt = 0.05     # Time step
n_steps = 100
n_agents = 3

# Initial positions (decoherent)
np.random.seed(42)
Phi = np.random.randn(n_agents, 2) * 2.0
Phi[0] = [0.0, 0.0]
Phi[1] = [3.0, 1.0]
Phi[2] = [-1.0, 2.0]

v = np.zeros_like(Phi)
S = np.zeros(n_agents)  # Entropy proxy

# Storage
history = [Phi.copy()]

print(f"Initial Free-Energy: {np.sum((Phi - Phi.mean(axis=0))**2):.3f}")

# + [markdown] slideshow={"slide_type": "slide"}
# ## 1. CLIO–HYDRA Update Rule
#
# $$
# \partial_t \Phi_i = -\kappa (\Phi_i - \bar{\Phi}) - \beta \mathbf{v}_i
# $$
#
# HYDRA enforces **sheaf consistency** via mean aggregation.

# + slideshow={"slide_type": "fragment"}
for step in range(n_steps):
    Phi_mean = Phi.mean(axis=0)
    
    # CLIO gradient flow
    dPhi_dt = -kappa * (Phi - Phi_mean) - beta * v
    dv_dt = -dPhi_dt  # Inertialess action
    
    # Update
    Phi += dPhi_dt * dt
    v += dv_dt * dt
    
    # Entropy = squared gradient
    S = np.sum(dPhi_dt**2, axis=1)
    
    history.append(Phi.copy())

history = np.array(history)
print(f"Final Free-Energy: {np.sum((Phi - Phi.mean(axis=0))**2):.3f}")

# + [markdown] slideshow={"slide_type": "slide"}
# ## 2. Animation: Coherence Emergence

# + slideshow={"slide_type": "subslide"}
fig, ax = plt.subplots(figsize=(10, 10))
ax.set_xlim(-4, 4)
ax.set_ylim(-2, 4)
ax.set_aspect('equal')
ax.grid(True, alpha=0.3)

# Agents
scats = [ax.plot([], [], 'o', ms=12, label=f'Agent {i}')[0] for i in range(n_agents)]
# Sheaf links
lines = [ax.plot([], [], 'r--', alpha=0.6)[0] for _ in range(3)]
ax.legend()

def init():
    for scat in scats:
        scat.set_data([], [])
    for line in lines:
        line.set_data([], [])
    return scats + lines

def update(frame):
    Phi_t = history[frame]
    
    # Update agents
    for i, scat in enumerate(scats):
        scat.set_data(Phi_t[i, 0], Phi_t[i, 1])
    
    # Update HYDRA links (ring topology)
    lines[0].set_data([Phi_t[0,0], Phi_t[1,0]], [Phi_t[0,1], Phi_t[1,1]])
    lines[1].set_data([Phi_t[1,0], Phi_t[2,0]], [Phi_t[1,1], Phi_t[2,1]])
    lines[2].set_data([Phi_t[2,0], Phi_t[0,0]], [Phi_t[2,1], Phi_t[0,1]])
    
    ax.set_title(f'Step {frame} | $\\mathcal{{F}} = {np.sum((Phi_t - Phi_t.mean(axis=0))**2):.3f}$')
    return scats + lines

ani = FuncAnimation(fig, update, frames=n_steps+1, init_func=init, blit=True, interval=100)

# Save
output_dir = "../../docs/figures"
os.makedirs(output_dir, exist_ok=True)
ani.save(f"{output_dir}/clio_hydra_coherence.gif", writer=PillowWriter(fps=15))

HTML(ani.to_jshtml())

# + [markdown] slideshow={"slide_type": "slide"}
# ## 3. Lyapunov & Entropy Decay

# + slideshow={"slide_type": "fragment"}
F_history = np.array([np.sum((h - h.mean(axis=0))**2) for h in history])
S_history = np.array([np.mean(np.sum(np.gradient(h, axis=0)**2, axis=1)) for h in history])

fig, (ax1, ax2) = plt.subplots(1, 2, figsize=(14, 5))

ax1.plot(F_history, 'k-', lw=2)
ax1.set_xlabel('Time Step')
ax1.set_ylabel('$\\mathcal{F}$ (Free-Energy)')
ax1.set_title('Lyapunov Decay → Coherence')
ax1.grid(True, alpha=0.3)

ax2.plot(S_history, 'r-', lw=2)
ax2.set_xlabel('Time Step')
ax2.set_ylabel('Mean $S_i$ (Entropy)')
ax2.set_title('Entropy Collapse')
ax2.grid(True, alpha=0.3)

plt.tight_layout()
plt.savefig(f"{output_dir}/clio_hydra_dynamics.pdf", bbox_inches='tight')
plt.show()

# + [markdown] slideshow={"slide_type": "slide"}
# ## 4. Final State

# + slideshow={"slide_type": "fragment"}
print("=== FINAL COHERENT STATE ===")
Phi_final = history[-1]
print(f"Shared Attractor: {Phi_final.mean(axis=0)}")
for i in range(n_agents):
    print(f"Agent {i}: Φ = {Phi_final[i]}, v = {v[i]}, S = {S[i]:.3e}")

# + [markdown] slideshow={"slide_type": "slide"}
# ## 5. Export for LaTeX

# + slideshow={"slide_type": "fragment"}
# Static snapshot
plt.figure(figsize=(8, 8))
for i in range(n_agents):
    traj = history[:, i]
    plt.plot(traj[:, 0], traj[:, 1], 'o-', ms=8, label=f'Agent {i}')
plt.plot(Phi_final[:, 0], Phi_final[:, 1], 'k*', ms=15, label='Attractor')
plt.xlabel('$\\Phi_x$'); plt.ylabel('$\\Phi_y$')
plt.title('CLIO–HYDRA: Trajectory to Coherence')
plt.legend()
plt.grid(True, alpha=0.3)
plt.savefig(f"../../src/latex/figures/clio_hydra_trajectory.pdf", bbox_inches='tight')
print("Exported: clio_hydra_trajectory.pdf")

# + [markdown] slideshow={"slide_type": "slide"}
# ## Conclusion
#
# - **CLIO** drives local optimization,
# - **HYDRA** enforces global consistency,
# - **Result**: $\mathcal{F} \to 0$, $S_i \to 0$, **supercoherence**.
#
# > **Thermodynamic alignment > preference alignment.**
#
# See **Part V** for scaling to 1000+ agents, GPU acceleration, and LLM integration.
# -
